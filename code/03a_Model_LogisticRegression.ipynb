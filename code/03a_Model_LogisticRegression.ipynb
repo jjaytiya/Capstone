{
 "cells": [
  {
   "cell_type": "markdown",
   "id": "00d547db-2c63-4ec6-8cc2-1890af15246b",
   "metadata": {},
   "source": [
    "# 📖 Import Library "
   ]
  },
  {
   "cell_type": "code",
   "execution_count": 2,
   "id": "f63ffa6f-85d2-4070-baef-e46b13bb6705",
   "metadata": {},
   "outputs": [],
   "source": [
    "import pandas as pd\n",
    "import numpy as np\n",
    "\n",
    "from sklearn.metrics import confusion_matrix, ConfusionMatrixDisplay\n",
    "import matplotlib.pyplot as plt\n",
    "\n",
    "from sklearn.model_selection import train_test_split  # For splitting data into training and testing sets\n",
    "from sklearn.preprocessing import StandardScaler  # For scaling numerical features\n",
    "from sklearn.linear_model import LogisticRegression  # The logistic regression model\n",
    "from sklearn.metrics import classification_report, accuracy_score  # For model evaluation"
   ]
  },
  {
   "cell_type": "markdown",
   "id": "2dcf0cc6-be63-47b2-b5b4-a40b4eacf920",
   "metadata": {},
   "source": [
    "# 💻 Load in data"
   ]
  },
  {
   "cell_type": "code",
   "execution_count": 4,
   "id": "ccf02c98-4437-49ee-8353-8cbcf38dcb9c",
   "metadata": {},
   "outputs": [],
   "source": [
    "df=pd.read_csv('../datasets/poker_completed.csv')"
   ]
  },
  {
   "cell_type": "code",
   "execution_count": 5,
   "id": "e16a3802-dae0-48a1-bfdc-a9b79d08aec2",
   "metadata": {},
   "outputs": [
    {
     "data": {
      "text/plain": [
       "Index(['game_id', 'hand_id', 'round', 'player_name', 'action', 'amount',\n",
       "       'hole_cards', 'community_cards', 'pot', 'player_stack', 'small_blind',\n",
       "       'big_blind', 'winner', 'card1', 'card2', 'card1_suit', 'card1_rank',\n",
       "       'card2_suit', 'card2_rank', 'community1_rank', 'community1_suit',\n",
       "       'community2_rank', 'community2_suit', 'community3_rank',\n",
       "       'community3_suit', 'community4_rank', 'community4_suit',\n",
       "       'community5_rank', 'community5_suit', 'poker_hand', 'bet_to_pot_ratio',\n",
       "       'action_label', 'round_label'],\n",
       "      dtype='object')"
      ]
     },
     "execution_count": 5,
     "metadata": {},
     "output_type": "execute_result"
    }
   ],
   "source": [
    "df.columns"
   ]
  },
  {
   "cell_type": "code",
   "execution_count": 6,
   "id": "7ea14376-6865-4b84-b7ff-16c8731fd438",
   "metadata": {},
   "outputs": [
    {
     "data": {
      "text/plain": [
       "(8863, 33)"
      ]
     },
     "execution_count": 6,
     "metadata": {},
     "output_type": "execute_result"
    }
   ],
   "source": [
    "df.shape"
   ]
  },
  {
   "cell_type": "code",
   "execution_count": 7,
   "id": "17bbeaa4-f32a-4d9d-9970-dd914126e9da",
   "metadata": {},
   "outputs": [
    {
     "data": {
      "text/plain": [
       "game_id              object\n",
       "hand_id               int64\n",
       "round                object\n",
       "player_name          object\n",
       "action               object\n",
       "amount                int64\n",
       "hole_cards           object\n",
       "community_cards      object\n",
       "pot                   int64\n",
       "player_stack          int64\n",
       "small_blind           int64\n",
       "big_blind             int64\n",
       "winner               object\n",
       "card1                object\n",
       "card2                object\n",
       "card1_suit            int64\n",
       "card1_rank            int64\n",
       "card2_suit            int64\n",
       "card2_rank            int64\n",
       "community1_rank       int64\n",
       "community1_suit       int64\n",
       "community2_rank       int64\n",
       "community2_suit       int64\n",
       "community3_rank       int64\n",
       "community3_suit       int64\n",
       "community4_rank       int64\n",
       "community4_suit       int64\n",
       "community5_rank       int64\n",
       "community5_suit       int64\n",
       "poker_hand            int64\n",
       "bet_to_pot_ratio    float64\n",
       "action_label          int64\n",
       "round_label           int64\n",
       "dtype: object"
      ]
     },
     "execution_count": 7,
     "metadata": {},
     "output_type": "execute_result"
    }
   ],
   "source": [
    "df.dtypes"
   ]
  },
  {
   "cell_type": "code",
   "execution_count": 8,
   "id": "8bf117d7-e087-4663-b13f-1387f0971642",
   "metadata": {},
   "outputs": [
    {
     "name": "stdout",
     "output_type": "stream",
     "text": [
      "Logistic Regression Accuracy: 0.8082346305696559\n",
      "Classification Report:\n",
      "               precision    recall  f1-score   support\n",
      "\n",
      "           0       0.71      0.77      0.74       622\n",
      "           1       0.86      0.80      0.83       737\n",
      "           2       0.89      0.87      0.88       414\n",
      "\n",
      "    accuracy                           0.81      1773\n",
      "   macro avg       0.82      0.82      0.82      1773\n",
      "weighted avg       0.81      0.81      0.81      1773\n",
      "\n"
     ]
    }
   ],
   "source": [
    "# Set up X\n",
    "X = df[['round_label','pot', 'player_stack', 'small_blind', 'big_blind', \n",
    "        'poker_hand', 'card1_rank', 'card2_rank', 'community1_rank', \n",
    "        'community2_rank', 'community3_rank', 'community4_rank', \n",
    "        'community5_rank','community1_suit', 'community2_suit', 'community3_suit', \n",
    "        'community4_suit', 'community5_suit','bet_to_pot_ratio']]\n",
    "\n",
    "y = df['action_label']  # Target variable\n",
    "\n",
    "# Train & Test Split \n",
    "X_train, X_test, y_train, y_test = train_test_split(X, y, test_size=0.2, random_state=42)\n",
    "\n",
    "# Initialize the scaler\n",
    "scaler = StandardScaler()\n",
    "\n",
    "# Fit the scaler only on the training data and transform the training data\n",
    "X_train_scaled = scaler.fit_transform(X_train)\n",
    "\n",
    "# Use the fitted scaler to transform the test data\n",
    "X_test_scaled = scaler.transform(X_test)\n",
    "\n",
    "# Train and evaluate\n",
    "log_reg = LogisticRegression(max_iter=100, random_state=42)\n",
    "log_reg.fit(X_train_scaled, y_train)  \n",
    "y_pred = log_reg.predict(X_test_scaled)  \n",
    "\n",
    "# Display results\n",
    "print(\"Logistic Regression Accuracy:\", accuracy_score(y_test, y_pred))\n",
    "print(\"Classification Report:\\n\", classification_report(y_test, y_pred))"
   ]
  },
  {
   "cell_type": "code",
   "execution_count": 9,
   "id": "4e54388a-a036-4a29-87ba-40c01cf6dc8e",
   "metadata": {},
   "outputs": [
    {
     "name": "stdout",
     "output_type": "stream",
     "text": [
      "0.7984485190409026\n",
      "0.8082346305696559\n"
     ]
    }
   ],
   "source": [
    "# Check training and testing scores\n",
    "print(log_reg.score(X_train_scaled, y_train))  # Training accuracy\n",
    "print(log_reg.score(X_test_scaled, y_test))    # Testing accuracy"
   ]
  },
  {
   "cell_type": "markdown",
   "id": "8694cddc-4e87-45a5-831a-02a6aecd8cc2",
   "metadata": {},
   "source": [
    "## 📝 Summarizes the performance of a Logistic Regression model on a multi-class classification"
   ]
  },
  {
   "cell_type": "markdown",
   "id": "21e2296f-8e26-4350-856d-036457540f11",
   "metadata": {},
   "source": [
    "1. **Overall Accuracy:** The Logistic Regression model achieves an accuracy of **81%**.\n",
    "\n",
    "2. **Action Performance:**\n",
    "   - **Call (Class 0):** Moderate performance with a precision of 70%, recall of 74%, and F1-score of 72%.\n",
    "   - **Raise (Class 1):** Strong performance with a precision of 84%, recall of 81%, and F1-score of 82%.\n",
    "   - **Fold (Class 2):** Best performance with a precision of 89%, recall of 87%, and F1-score of 88%. </br></br>\n",
    "\n",
    "3. **Macro Average:** Balanced performance across actions with precision, recall, and F1-scores around **81%**.\n",
    "\n",
    "4. **Weighted Average:** Considering class imbalances, the overall weighted precision, recall, and F1-score are approximately **80%**.\n",
    "\n",
    "5. **Insight:** The model predicts **Fold** most accurately, performs well for **Raise**, and has moderate performance for **Call**."
   ]
  },
  {
   "cell_type": "code",
   "execution_count": 12,
   "id": "835c8d31-67d3-42dc-bc86-c2b90c8e5a1e",
   "metadata": {},
   "outputs": [
    {
     "data": {
      "image/png": "[encoded data removed]",
      "text/plain": [
       "<Figure size 640x480 with 2 Axes>"
      ]
     },
     "metadata": {},
     "output_type": "display_data"
    }
   ],
   "source": [
    "# Compute the confusion matrix\n",
    "# 0 = call , 1 = raise, 3 = fold\n",
    "\n",
    "cm = confusion_matrix(y_test, y_pred)\n",
    "\n",
    "# Display the confusion matrix\n",
    "disp = ConfusionMatrixDisplay(confusion_matrix=cm, display_labels=log_reg.classes_)\n",
    "disp.plot(cmap='viridis', values_format='d')\n",
    "\n",
    "# Add a title for clarity\n",
    "plt.title(\"Confusion Matrix - Logistic Regression\")\n",
    "plt.show()"
   ]
  },
  {
   "cell_type": "code",
   "execution_count": 13,
   "id": "a2afafbc-29c1-4d8a-9314-440a0ae21ba3",
   "metadata": {},
   "outputs": [
    {
     "data": {
      "image/png": "[encoded data removed]",
      "text/plain": [
       "<Figure size 1000x600 with 1 Axes>"
      ]
     },
     "metadata": {},
     "output_type": "display_data"
    }
   ],
   "source": [
    "# Coefficients\n",
    "coefficients = log_reg.coef_[0]  \n",
    "features = X.columns  \n",
    "\n",
    "# Make # DF for easier handling\n",
    "coef_df = pd.DataFrame({'Feature': features, 'Coefficient': coefficients})\n",
    "coef_df = coef_df.sort_values(by='Coefficient', ascending=False)\n",
    "\n",
    "plt.figure(figsize=(10, 6))\n",
    "plt.barh(coef_df['Feature'], coef_df['Coefficient'])\n",
    "plt.xlabel('Coefficient Value')\n",
    "plt.title('Logistic Regression Coefficients')\n",
    "\n",
    "plt.savefig('../images/Logistic_Regression_Coefficients.png', format='png', dpi=300)\n",
    "plt.show()"
   ]
  },
  {
   "cell_type": "code",
   "execution_count": 14,
   "id": "96566d5b-fc17-45b7-95a9-2e8521ce3525",
   "metadata": {},
   "outputs": [
    {
     "data": {
      "text/html": [
       "<div>\n",
       "<style scoped>\n",
       "    .dataframe tbody tr th:only-of-type {\n",
       "        vertical-align: middle;\n",
       "    }\n",
       "\n",
       "    .dataframe tbody tr th {\n",
       "        vertical-align: top;\n",
       "    }\n",
       "\n",
       "    .dataframe thead th {\n",
       "        text-align: right;\n",
       "    }\n",
       "</style>\n",
       "<table border=\"1\" class=\"dataframe\">\n",
       "  <thead>\n",
       "    <tr style=\"text-align: right;\">\n",
       "      <th></th>\n",
       "      <th>Feature</th>\n",
       "      <th>Coefficient</th>\n",
       "    </tr>\n",
       "  </thead>\n",
       "  <tbody>\n",
       "    <tr>\n",
       "      <th>18</th>\n",
       "      <td>bet_to_pot_ratio</td>\n",
       "      <td>1.21</td>\n",
       "    </tr>\n",
       "    <tr>\n",
       "      <th>0</th>\n",
       "      <td>round_label</td>\n",
       "      <td>0.20</td>\n",
       "    </tr>\n",
       "    <tr>\n",
       "      <th>9</th>\n",
       "      <td>community2_rank</td>\n",
       "      <td>0.08</td>\n",
       "    </tr>\n",
       "    <tr>\n",
       "      <th>1</th>\n",
       "      <td>pot</td>\n",
       "      <td>0.04</td>\n",
       "    </tr>\n",
       "    <tr>\n",
       "      <th>14</th>\n",
       "      <td>community2_suit</td>\n",
       "      <td>0.03</td>\n",
       "    </tr>\n",
       "    <tr>\n",
       "      <th>15</th>\n",
       "      <td>community3_suit</td>\n",
       "      <td>0.03</td>\n",
       "    </tr>\n",
       "    <tr>\n",
       "      <th>5</th>\n",
       "      <td>poker_hand</td>\n",
       "      <td>0.02</td>\n",
       "    </tr>\n",
       "    <tr>\n",
       "      <th>8</th>\n",
       "      <td>community1_rank</td>\n",
       "      <td>0.01</td>\n",
       "    </tr>\n",
       "    <tr>\n",
       "      <th>13</th>\n",
       "      <td>community1_suit</td>\n",
       "      <td>0.01</td>\n",
       "    </tr>\n",
       "    <tr>\n",
       "      <th>4</th>\n",
       "      <td>big_blind</td>\n",
       "      <td>0.00</td>\n",
       "    </tr>\n",
       "    <tr>\n",
       "      <th>3</th>\n",
       "      <td>small_blind</td>\n",
       "      <td>0.00</td>\n",
       "    </tr>\n",
       "    <tr>\n",
       "      <th>7</th>\n",
       "      <td>card2_rank</td>\n",
       "      <td>-0.00</td>\n",
       "    </tr>\n",
       "    <tr>\n",
       "      <th>17</th>\n",
       "      <td>community5_suit</td>\n",
       "      <td>-0.01</td>\n",
       "    </tr>\n",
       "    <tr>\n",
       "      <th>6</th>\n",
       "      <td>card1_rank</td>\n",
       "      <td>-0.01</td>\n",
       "    </tr>\n",
       "    <tr>\n",
       "      <th>10</th>\n",
       "      <td>community3_rank</td>\n",
       "      <td>-0.01</td>\n",
       "    </tr>\n",
       "    <tr>\n",
       "      <th>11</th>\n",
       "      <td>community4_rank</td>\n",
       "      <td>-0.04</td>\n",
       "    </tr>\n",
       "    <tr>\n",
       "      <th>16</th>\n",
       "      <td>community4_suit</td>\n",
       "      <td>-0.08</td>\n",
       "    </tr>\n",
       "    <tr>\n",
       "      <th>2</th>\n",
       "      <td>player_stack</td>\n",
       "      <td>-0.09</td>\n",
       "    </tr>\n",
       "    <tr>\n",
       "      <th>12</th>\n",
       "      <td>community5_rank</td>\n",
       "      <td>-0.10</td>\n",
       "    </tr>\n",
       "  </tbody>\n",
       "</table>\n",
       "</div>"
      ],
      "text/plain": [
       "             Feature  Coefficient\n",
       "18  bet_to_pot_ratio         1.21\n",
       "0        round_label         0.20\n",
       "9    community2_rank         0.08\n",
       "1                pot         0.04\n",
       "14   community2_suit         0.03\n",
       "15   community3_suit         0.03\n",
       "5         poker_hand         0.02\n",
       "8    community1_rank         0.01\n",
       "13   community1_suit         0.01\n",
       "4          big_blind         0.00\n",
       "3        small_blind         0.00\n",
       "7         card2_rank        -0.00\n",
       "17   community5_suit        -0.01\n",
       "6         card1_rank        -0.01\n",
       "10   community3_rank        -0.01\n",
       "11   community4_rank        -0.04\n",
       "16   community4_suit        -0.08\n",
       "2       player_stack        -0.09\n",
       "12   community5_rank        -0.10"
      ]
     },
     "execution_count": 14,
     "metadata": {},
     "output_type": "execute_result"
    }
   ],
   "source": [
    "coef_df.round(2)"
   ]
  },
  {
   "cell_type": "markdown",
   "id": "349b803f-0ce1-457a-92a0-25e986fadfed",
   "metadata": {},
   "source": [
    "## 📝 Understand the coefficients from the Logistic Regression model, indicating how each feature influences the target variable (`action_label`)."
   ]
  },
  {
   "cell_type": "markdown",
   "id": "e7865f2b-e694-4637-bd67-8297467eab7b",
   "metadata": {},
   "source": [
    "#### Highlight:\n",
    "- **`bet_to_pot_ratio` (1.21)**: Strong positive influence; higher bet-to-pot ratio increases likelihood of **Raise**.\n",
    "- **`round_label` (0.20)**: Positive influence; as the round progresses, more aggressive actions are likely.\n",
    "- **`community2_rank` (0.08)**: Slight positive effect; higher rank increases action likelihood.\n",
    "- **`pot` (0.04)**: Slight positive effect; larger pots make **Raise** more likely.\n",
    "- **`community5_rank` (-0.10)**: Strong negative impact; higher rank decreases likelihood of aggressive actions.\n",
    "- **`player_stack` (-0.09)**: Negative influence; larger stacks decrease likelihood of **Raise** or **Call**.\n",
    "- **`community4_suit` (-0.08)**: Moderate negative influence on action likelihood."
   ]
  },
  {
   "cell_type": "code",
   "execution_count": 17,
   "id": "aaa31514-215a-4a6e-badc-24bf672e5486",
   "metadata": {},
   "outputs": [
    {
     "data": {
      "text/plain": [
       "['../model/poker_strategy_logistic.pkl']"
      ]
     },
     "execution_count": 17,
     "metadata": {},
     "output_type": "execute_result"
    }
   ],
   "source": [
    "import joblib\n",
    "\n",
    "# Save the model\n",
    "joblib.dump(log_reg, '../model/poker_strategy_logistic.pkl')"
   ]
  },
  {
   "cell_type": "code",
   "execution_count": null,
   "id": "9463ff31-af23-4b34-81c8-810c06725241",
   "metadata": {},
   "outputs": [],
   "source": []
  }
 ],
 "metadata": {
  "kernelspec": {
   "display_name": "Python 3 (ipykernel)",
   "language": "python",
   "name": "python3"
  },
  "language_info": {
   "codemirror_mode": {
    "name": "ipython",
    "version": 3
   },
   "file_extension": ".py",
   "mimetype": "text/x-python",
   "name": "python",
   "nbconvert_exporter": "python",
   "pygments_lexer": "ipython3",
   "version": "3.12.4"
  }
 },
 "nbformat": 4,
 "nbformat_minor": 5
}
