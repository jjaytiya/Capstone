{
 "cells": [
  {
   "cell_type": "code",
   "execution_count": 10,
   "id": "4f9de2b2-3dd4-4034-a67b-37775236d105",
   "metadata": {},
   "outputs": [],
   "source": [
    "#!pip install PyPokerEngine"
   ]
  },
  {
   "cell_type": "code",
   "execution_count": 12,
   "id": "1e22417a-3539-4392-bbf4-2226b2125f93",
   "metadata": {},
   "outputs": [],
   "source": [
    "#!pip install treys"
   ]
  },
  {
   "cell_type": "code",
   "execution_count": 67,
   "id": "d8a7d2b2-f25f-48a7-b2c1-ba86030daa16",
   "metadata": {},
   "outputs": [],
   "source": [
    "# Import Library\n",
    "import pandas as pd"
   ]
  },
  {
   "cell_type": "code",
   "execution_count": 75,
   "id": "a569e153-a879-4ddc-a457-938481450a8f",
   "metadata": {},
   "outputs": [],
   "source": [
    "df=pd.read_csv('../datasets/poker_states.csv')"
   ]
  },
  {
   "cell_type": "code",
   "execution_count": 76,
   "id": "3cc853d5-3e66-4b1e-a692-73aab45f31de",
   "metadata": {},
   "outputs": [
    {
     "data": {
      "text/html": [
       "<div>\n",
       "<style scoped>\n",
       "    .dataframe tbody tr th:only-of-type {\n",
       "        vertical-align: middle;\n",
       "    }\n",
       "\n",
       "    .dataframe tbody tr th {\n",
       "        vertical-align: top;\n",
       "    }\n",
       "\n",
       "    .dataframe thead th {\n",
       "        text-align: right;\n",
       "    }\n",
       "</style>\n",
       "<table border=\"1\" class=\"dataframe\">\n",
       "  <thead>\n",
       "    <tr style=\"text-align: right;\">\n",
       "      <th></th>\n",
       "      <th>config_id</th>\n",
       "      <th>round</th>\n",
       "      <th>acting_player</th>\n",
       "      <th>hole_cards</th>\n",
       "      <th>community_cards</th>\n",
       "      <th>pot</th>\n",
       "      <th>stacks</th>\n",
       "      <th>actions_this_street</th>\n",
       "    </tr>\n",
       "  </thead>\n",
       "  <tbody>\n",
       "    <tr>\n",
       "      <th>0</th>\n",
       "      <td>0</td>\n",
       "      <td>preflop</td>\n",
       "      <td>aunochwrgtrmrjjztynenl</td>\n",
       "      <td>D2,D3</td>\n",
       "      <td>NaN</td>\n",
       "      <td>30</td>\n",
       "      <td>1000;990;980;1000</td>\n",
       "      <td>jqffatfmqhkezwdfldwnwd:SMALLBLIND:10;mnlyzxfpt...</td>\n",
       "    </tr>\n",
       "    <tr>\n",
       "      <th>1</th>\n",
       "      <td>0</td>\n",
       "      <td>preflop</td>\n",
       "      <td>yvbnqjvjvwexijxqsjmvcs</td>\n",
       "      <td>S4,HK</td>\n",
       "      <td>NaN</td>\n",
       "      <td>50</td>\n",
       "      <td>1000;990;980;980</td>\n",
       "      <td>jqffatfmqhkezwdfldwnwd:SMALLBLIND:10;mnlyzxfpt...</td>\n",
       "    </tr>\n",
       "    <tr>\n",
       "      <th>2</th>\n",
       "      <td>0</td>\n",
       "      <td>preflop</td>\n",
       "      <td>jqffatfmqhkezwdfldwnwd</td>\n",
       "      <td>C3,DK</td>\n",
       "      <td>NaN</td>\n",
       "      <td>50</td>\n",
       "      <td>1000;990;980;980</td>\n",
       "      <td>jqffatfmqhkezwdfldwnwd:SMALLBLIND:10;mnlyzxfpt...</td>\n",
       "    </tr>\n",
       "    <tr>\n",
       "      <th>3</th>\n",
       "      <td>0</td>\n",
       "      <td>preflop</td>\n",
       "      <td>mnlyzxfptenxzsdvmmdpwg</td>\n",
       "      <td>CT,HJ</td>\n",
       "      <td>NaN</td>\n",
       "      <td>50</td>\n",
       "      <td>1000;990;980;980</td>\n",
       "      <td>jqffatfmqhkezwdfldwnwd:SMALLBLIND:10;mnlyzxfpt...</td>\n",
       "    </tr>\n",
       "    <tr>\n",
       "      <th>4</th>\n",
       "      <td>0</td>\n",
       "      <td>flop</td>\n",
       "      <td>mnlyzxfptenxzsdvmmdpwg</td>\n",
       "      <td>CT,HJ</td>\n",
       "      <td>D4,SA,H8</td>\n",
       "      <td>50</td>\n",
       "      <td>1000;990;980;980</td>\n",
       "      <td>NaN</td>\n",
       "    </tr>\n",
       "  </tbody>\n",
       "</table>\n",
       "</div>"
      ],
      "text/plain": [
       "   config_id    round           acting_player hole_cards community_cards  pot  \\\n",
       "0          0  preflop  aunochwrgtrmrjjztynenl      D2,D3             NaN   30   \n",
       "1          0  preflop  yvbnqjvjvwexijxqsjmvcs      S4,HK             NaN   50   \n",
       "2          0  preflop  jqffatfmqhkezwdfldwnwd      C3,DK             NaN   50   \n",
       "3          0  preflop  mnlyzxfptenxzsdvmmdpwg      CT,HJ             NaN   50   \n",
       "4          0     flop  mnlyzxfptenxzsdvmmdpwg      CT,HJ        D4,SA,H8   50   \n",
       "\n",
       "              stacks                                actions_this_street  \n",
       "0  1000;990;980;1000  jqffatfmqhkezwdfldwnwd:SMALLBLIND:10;mnlyzxfpt...  \n",
       "1   1000;990;980;980  jqffatfmqhkezwdfldwnwd:SMALLBLIND:10;mnlyzxfpt...  \n",
       "2   1000;990;980;980  jqffatfmqhkezwdfldwnwd:SMALLBLIND:10;mnlyzxfpt...  \n",
       "3   1000;990;980;980  jqffatfmqhkezwdfldwnwd:SMALLBLIND:10;mnlyzxfpt...  \n",
       "4   1000;990;980;980                                                NaN  "
      ]
     },
     "execution_count": 76,
     "metadata": {},
     "output_type": "execute_result"
    }
   ],
   "source": [
    "df.head()"
   ]
  },
  {
   "cell_type": "code",
   "execution_count": 79,
   "id": "100263da-9d84-40b4-879a-9561c913f56a",
   "metadata": {},
   "outputs": [
    {
     "data": {
      "text/plain": [
       "(1195900, 8)"
      ]
     },
     "execution_count": 79,
     "metadata": {},
     "output_type": "execute_result"
    }
   ],
   "source": [
    "df.shape"
   ]
  },
  {
   "cell_type": "code",
   "execution_count": 89,
   "id": "14c9e7bd-2c36-4e3f-bc02-bd0a8f01a74e",
   "metadata": {},
   "outputs": [
    {
     "data": {
      "text/plain": [
       "Index(['config_id', 'round', 'acting_player', 'hole_cards', 'community_cards',\n",
       "       'pot', 'stacks', 'actions_this_street'],\n",
       "      dtype='object')"
      ]
     },
     "execution_count": 89,
     "metadata": {},
     "output_type": "execute_result"
    }
   ],
   "source": [
    "df.columns"
   ]
  },
  {
   "cell_type": "code",
   "execution_count": 1,
   "id": "94d06533-6242-4ace-98ba-f16163022ee6",
   "metadata": {},
   "outputs": [
    {
     "ename": "NameError",
     "evalue": "name 'df' is not defined",
     "output_type": "error",
     "traceback": [
      "\u001b[0;31m---------------------------------------------------------------------------\u001b[0m",
      "\u001b[0;31mNameError\u001b[0m                                 Traceback (most recent call last)",
      "Cell \u001b[0;32mIn[1], line 1\u001b[0m\n\u001b[0;32m----> 1\u001b[0m df\u001b[38;5;241m.\u001b[39misnull()\u001b[38;5;241m.\u001b[39msum()\n",
      "\u001b[0;31mNameError\u001b[0m: name 'df' is not defined"
     ]
    }
   ],
   "source": [
    "df.isnull().sum()"
   ]
  },
  {
   "cell_type": "code",
   "execution_count": null,
   "id": "9e43990b-ac72-4bd0-9573-f49eb06692f3",
   "metadata": {},
   "outputs": [],
   "source": [
    "df['actions_this_street']"
   ]
  }
 ],
 "metadata": {
  "kernelspec": {
   "display_name": "Python 3 (ipykernel)",
   "language": "python",
   "name": "python3"
  },
  "language_info": {
   "codemirror_mode": {
    "name": "ipython",
    "version": 3
   },
   "file_extension": ".py",
   "mimetype": "text/x-python",
   "name": "python",
   "nbconvert_exporter": "python",
   "pygments_lexer": "ipython3",
   "version": "3.12.4"
  }
 },
 "nbformat": 4,
 "nbformat_minor": 5
}
