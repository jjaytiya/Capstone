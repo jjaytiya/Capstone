{
 "cells": [
  {
   "cell_type": "markdown",
   "id": "de141074-5441-4b06-b875-dd6fb9996bdf",
   "metadata": {},
   "source": [
    "# 📖 Import Library "
   ]
  },
  {
   "cell_type": "code",
   "execution_count": 13,
   "id": "d8a7d2b2-f25f-48a7-b2c1-ba86030daa16",
   "metadata": {},
   "outputs": [],
   "source": [
    "import pandas as pd\n",
    "import matplotlib.pyplot as plt\n",
    "import seaborn as sns"
   ]
  },
  {
   "cell_type": "markdown",
   "id": "ced09ebd-3041-4cea-adbd-79b338963cce",
   "metadata": {},
   "source": [
    "# 💻 Load in data from data that I stimulate earlier "
   ]
  },
  {
   "cell_type": "code",
   "execution_count": 15,
   "id": "a569e153-a879-4ddc-a457-938481450a8f",
   "metadata": {},
   "outputs": [],
   "source": [
    "df=pd.read_csv('../datasets/poker_states.csv')"
   ]
  },
  {
   "cell_type": "markdown",
   "id": "01789a4d-f59f-4ca0-a4e9-4e4f8f17ffa9",
   "metadata": {},
   "source": [
    "# 📌 Check the data \n",
    "- There are originally 10 columns with 83,630 rows\n",
    "- There are 2 features that having NaN\n",
    "    - `community_cards`: Missing values might occur before any community cards are revealed (pre-flop).\n",
    "    - `actions_this_street`: Missing values might occur when no actions have been taken yet. For instance, at the start of a betting round.\n",
    "If the missing values have a specific context (e.g., logical absence), treat them differently than random missingness."
   ]
  },
  {
   "cell_type": "code",
   "execution_count": 17,
   "id": "3cc853d5-3e66-4b1e-a692-73aab45f31de",
   "metadata": {},
   "outputs": [
    {
     "data": {
      "text/html": [
       "<div>\n",
       "<style scoped>\n",
       "    .dataframe tbody tr th:only-of-type {\n",
       "        vertical-align: middle;\n",
       "    }\n",
       "\n",
       "    .dataframe tbody tr th {\n",
       "        vertical-align: top;\n",
       "    }\n",
       "\n",
       "    .dataframe thead th {\n",
       "        text-align: right;\n",
       "    }\n",
       "</style>\n",
       "<table border=\"1\" class=\"dataframe\">\n",
       "  <thead>\n",
       "    <tr style=\"text-align: right;\">\n",
       "      <th></th>\n",
       "      <th>config_id</th>\n",
       "      <th>round</th>\n",
       "      <th>acting_player</th>\n",
       "      <th>action</th>\n",
       "      <th>action_amount</th>\n",
       "      <th>hole_cards</th>\n",
       "      <th>community_cards</th>\n",
       "      <th>pot</th>\n",
       "      <th>stacks</th>\n",
       "      <th>actions_this_street</th>\n",
       "    </tr>\n",
       "  </thead>\n",
       "  <tbody>\n",
       "    <tr>\n",
       "      <th>0</th>\n",
       "      <td>0</td>\n",
       "      <td>preflop</td>\n",
       "      <td>geqao</td>\n",
       "      <td>call</td>\n",
       "      <td>200</td>\n",
       "      <td>ST,S4</td>\n",
       "      <td>NaN</td>\n",
       "      <td>300</td>\n",
       "      <td>5000;4900;4800;5000</td>\n",
       "      <td>smmpihzszsesmpxjefwcwu:SMALLBLIND:100;eavjfjqe...</td>\n",
       "    </tr>\n",
       "    <tr>\n",
       "      <th>1</th>\n",
       "      <td>0</td>\n",
       "      <td>preflop</td>\n",
       "      <td>ufrlx</td>\n",
       "      <td>fold</td>\n",
       "      <td>0</td>\n",
       "      <td>C2,D5</td>\n",
       "      <td>NaN</td>\n",
       "      <td>500</td>\n",
       "      <td>5000;4900;4800;4800</td>\n",
       "      <td>smmpihzszsesmpxjefwcwu:SMALLBLIND:100;eavjfjqe...</td>\n",
       "    </tr>\n",
       "    <tr>\n",
       "      <th>2</th>\n",
       "      <td>0</td>\n",
       "      <td>preflop</td>\n",
       "      <td>smmpi</td>\n",
       "      <td>call</td>\n",
       "      <td>200</td>\n",
       "      <td>HA,D7</td>\n",
       "      <td>NaN</td>\n",
       "      <td>500</td>\n",
       "      <td>5000;4900;4800;4800</td>\n",
       "      <td>smmpihzszsesmpxjefwcwu:SMALLBLIND:100;eavjfjqe...</td>\n",
       "    </tr>\n",
       "    <tr>\n",
       "      <th>3</th>\n",
       "      <td>0</td>\n",
       "      <td>preflop</td>\n",
       "      <td>eavjf</td>\n",
       "      <td>call</td>\n",
       "      <td>200</td>\n",
       "      <td>C8,D8</td>\n",
       "      <td>NaN</td>\n",
       "      <td>600</td>\n",
       "      <td>5000;4800;4800;4800</td>\n",
       "      <td>smmpihzszsesmpxjefwcwu:SMALLBLIND:100;eavjfjqe...</td>\n",
       "    </tr>\n",
       "    <tr>\n",
       "      <th>4</th>\n",
       "      <td>0</td>\n",
       "      <td>flop</td>\n",
       "      <td>smmpi</td>\n",
       "      <td>raise</td>\n",
       "      <td>2128</td>\n",
       "      <td>HA,D7</td>\n",
       "      <td>H4,H3,HQ</td>\n",
       "      <td>600</td>\n",
       "      <td>5000;4800;4800;4800</td>\n",
       "      <td>NaN</td>\n",
       "    </tr>\n",
       "  </tbody>\n",
       "</table>\n",
       "</div>"
      ],
      "text/plain": [
       "   config_id    round acting_player action  action_amount hole_cards  \\\n",
       "0          0  preflop         geqao   call            200      ST,S4   \n",
       "1          0  preflop         ufrlx   fold              0      C2,D5   \n",
       "2          0  preflop         smmpi   call            200      HA,D7   \n",
       "3          0  preflop         eavjf   call            200      C8,D8   \n",
       "4          0     flop         smmpi  raise           2128      HA,D7   \n",
       "\n",
       "  community_cards  pot               stacks  \\\n",
       "0             NaN  300  5000;4900;4800;5000   \n",
       "1             NaN  500  5000;4900;4800;4800   \n",
       "2             NaN  500  5000;4900;4800;4800   \n",
       "3             NaN  600  5000;4800;4800;4800   \n",
       "4        H4,H3,HQ  600  5000;4800;4800;4800   \n",
       "\n",
       "                                 actions_this_street  \n",
       "0  smmpihzszsesmpxjefwcwu:SMALLBLIND:100;eavjfjqe...  \n",
       "1  smmpihzszsesmpxjefwcwu:SMALLBLIND:100;eavjfjqe...  \n",
       "2  smmpihzszsesmpxjefwcwu:SMALLBLIND:100;eavjfjqe...  \n",
       "3  smmpihzszsesmpxjefwcwu:SMALLBLIND:100;eavjfjqe...  \n",
       "4                                                NaN  "
      ]
     },
     "execution_count": 17,
     "metadata": {},
     "output_type": "execute_result"
    }
   ],
   "source": [
    "df.head()"
   ]
  },
  {
   "cell_type": "code",
   "execution_count": 19,
   "id": "100263da-9d84-40b4-879a-9561c913f56a",
   "metadata": {},
   "outputs": [
    {
     "data": {
      "text/plain": [
       "(83630, 10)"
      ]
     },
     "execution_count": 19,
     "metadata": {},
     "output_type": "execute_result"
    }
   ],
   "source": [
    "df.shape"
   ]
  },
  {
   "cell_type": "code",
   "execution_count": 21,
   "id": "14c9e7bd-2c36-4e3f-bc02-bd0a8f01a74e",
   "metadata": {},
   "outputs": [
    {
     "data": {
      "text/plain": [
       "Index(['config_id', 'round', 'acting_player', 'action', 'action_amount',\n",
       "       'hole_cards', 'community_cards', 'pot', 'stacks',\n",
       "       'actions_this_street'],\n",
       "      dtype='object')"
      ]
     },
     "execution_count": 21,
     "metadata": {},
     "output_type": "execute_result"
    }
   ],
   "source": [
    "df.columns"
   ]
  },
  {
   "cell_type": "code",
   "execution_count": 36,
   "id": "0d9e529f-c5ef-4449-b4ee-cfb986646e4b",
   "metadata": {},
   "outputs": [
    {
     "data": {
      "text/plain": [
       "config_id                  0\n",
       "round                      0\n",
       "acting_player              0\n",
       "action                     0\n",
       "action_amount              0\n",
       "hole_cards                 0\n",
       "community_cards        64994\n",
       "pot                        0\n",
       "stacks                     0\n",
       "actions_this_street     9082\n",
       "dtype: int64"
      ]
     },
     "execution_count": 36,
     "metadata": {},
     "output_type": "execute_result"
    }
   ],
   "source": [
    "df.isnull().sum()"
   ]
  },
  {
   "cell_type": "markdown",
   "id": "2d51a172-0704-4cb5-979a-b1a4668c0b87",
   "metadata": {},
   "source": [
    "### 🔎 Investigate missing values "
   ]
  },
  {
   "cell_type": "markdown",
   "id": "94a54ca0-de0f-4076-92db-7619434c7616",
   "metadata": {},
   "source": [
    "### `community_cards`"
   ]
  },
  {
   "cell_type": "code",
   "execution_count": 45,
   "id": "46e10dee-a18b-41c7-8f87-108fdb782fc9",
   "metadata": {},
   "outputs": [
    {
     "data": {
      "text/plain": [
       "64994"
      ]
     },
     "execution_count": 45,
     "metadata": {},
     "output_type": "execute_result"
    }
   ],
   "source": [
    "# Count rows where round is 'preflop' and community_cards is NaN\n",
    "df[(df['round'] == 'preflop') & (df['community_cards'].isna())].shape[0]\n",
    "\n",
    "# This can confirm that missing values occur before any community cards are revealed (pre-flop)."
   ]
  },
  {
   "cell_type": "code",
   "execution_count": 59,
   "id": "ed850ea2-4702-4e55-a2a6-8060d606f661",
   "metadata": {},
   "outputs": [],
   "source": [
    "# Replace 'None' in NaN\n",
    "# Reason : 'None' can provide a clear representation of the pre-flop state.\n",
    "df['community_cards'] = df['community_cards'].fillna('None')"
   ]
  },
  {
   "cell_type": "markdown",
   "id": "77e7cbec-193d-4222-86eb-aacc9f7ad947",
   "metadata": {},
   "source": [
    "### `actions_this_street`"
   ]
  },
  {
   "cell_type": "code",
   "execution_count": 67,
   "id": "578d8a36-aa77-49f5-b5d4-6da395f71f44",
   "metadata": {},
   "outputs": [
    {
     "data": {
      "text/plain": [
       "round\n",
       "flop     6938\n",
       "river     422\n",
       "turn     1722\n",
       "dtype: int64"
      ]
     },
     "execution_count": 67,
     "metadata": {},
     "output_type": "execute_result"
    }
   ],
   "source": [
    "# Count missing actions grouped by round\n",
    "df[df['actions_this_street'].isna()].groupby('round').size()"
   ]
  },
  {
   "cell_type": "code",
   "execution_count": null,
   "id": "dee5b10d-d6cf-40bb-9a5d-d316bc4da681",
   "metadata": {},
   "outputs": [],
   "source": [
    "# community_cards        64994\n",
    "# actions_this_street     9082"
   ]
  }
 ],
 "metadata": {
  "kernelspec": {
   "display_name": "Python 3 (ipykernel)",
   "language": "python",
   "name": "python3"
  },
  "language_info": {
   "codemirror_mode": {
    "name": "ipython",
    "version": 3
   },
   "file_extension": ".py",
   "mimetype": "text/x-python",
   "name": "python",
   "nbconvert_exporter": "python",
   "pygments_lexer": "ipython3",
   "version": "3.12.4"
  }
 },
 "nbformat": 4,
 "nbformat_minor": 5
}
