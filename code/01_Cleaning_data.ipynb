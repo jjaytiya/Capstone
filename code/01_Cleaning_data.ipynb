{
 "cells": [
  {
   "cell_type": "markdown",
   "id": "de141074-5441-4b06-b875-dd6fb9996bdf",
   "metadata": {},
   "source": [
    "# 📖 Import Library "
   ]
  },
  {
   "cell_type": "code",
   "execution_count": 274,
   "id": "d8a7d2b2-f25f-48a7-b2c1-ba86030daa16",
   "metadata": {},
   "outputs": [],
   "source": [
    "import pandas as pd\n",
    "import matplotlib.pyplot as plt\n",
    "import seaborn as sns"
   ]
  },
  {
   "cell_type": "markdown",
   "id": "ced09ebd-3041-4cea-adbd-79b338963cce",
   "metadata": {},
   "source": [
    "# 💻 Load in data from data that I stimulate earlier "
   ]
  },
  {
   "cell_type": "code",
   "execution_count": 276,
   "id": "a569e153-a879-4ddc-a457-938481450a8f",
   "metadata": {},
   "outputs": [],
   "source": [
    "df=pd.read_csv('../datasets/poker_states.csv')"
   ]
  },
  {
   "cell_type": "markdown",
   "id": "01789a4d-f59f-4ca0-a4e9-4e4f8f17ffa9",
   "metadata": {},
   "source": [
    "# 📌 Check the data \n",
    "- There are originally 10 columns with 83,630 rows\n",
    "- There are 2 features that having NaN\n",
    "    - `community_cards`: Missing values might occur before any community cards are revealed (pre-flop).\n",
    "    - `actions_this_street`: Missing values might occur when no actions have been taken yet. For instance, at the start of a betting round.\n",
    "If the missing values have a specific context (e.g., logical absence), treat them differently than random missingness."
   ]
  },
  {
   "cell_type": "code",
   "execution_count": 278,
   "id": "3cc853d5-3e66-4b1e-a692-73aab45f31de",
   "metadata": {},
   "outputs": [
    {
     "data": {
      "text/html": [
       "<div>\n",
       "<style scoped>\n",
       "    .dataframe tbody tr th:only-of-type {\n",
       "        vertical-align: middle;\n",
       "    }\n",
       "\n",
       "    .dataframe tbody tr th {\n",
       "        vertical-align: top;\n",
       "    }\n",
       "\n",
       "    .dataframe thead th {\n",
       "        text-align: right;\n",
       "    }\n",
       "</style>\n",
       "<table border=\"1\" class=\"dataframe\">\n",
       "  <thead>\n",
       "    <tr style=\"text-align: right;\">\n",
       "      <th></th>\n",
       "      <th>config_id</th>\n",
       "      <th>round</th>\n",
       "      <th>acting_player</th>\n",
       "      <th>action</th>\n",
       "      <th>action_amount</th>\n",
       "      <th>hole_cards</th>\n",
       "      <th>community_cards</th>\n",
       "      <th>pot</th>\n",
       "      <th>stacks</th>\n",
       "      <th>actions_this_street</th>\n",
       "    </tr>\n",
       "  </thead>\n",
       "  <tbody>\n",
       "    <tr>\n",
       "      <th>0</th>\n",
       "      <td>0</td>\n",
       "      <td>preflop</td>\n",
       "      <td>geqao</td>\n",
       "      <td>call</td>\n",
       "      <td>200</td>\n",
       "      <td>ST,S4</td>\n",
       "      <td>NaN</td>\n",
       "      <td>300</td>\n",
       "      <td>5000;4900;4800;5000</td>\n",
       "      <td>smmpihzszsesmpxjefwcwu:SMALLBLIND:100;eavjfjqe...</td>\n",
       "    </tr>\n",
       "    <tr>\n",
       "      <th>1</th>\n",
       "      <td>0</td>\n",
       "      <td>preflop</td>\n",
       "      <td>ufrlx</td>\n",
       "      <td>fold</td>\n",
       "      <td>0</td>\n",
       "      <td>C2,D5</td>\n",
       "      <td>NaN</td>\n",
       "      <td>500</td>\n",
       "      <td>5000;4900;4800;4800</td>\n",
       "      <td>smmpihzszsesmpxjefwcwu:SMALLBLIND:100;eavjfjqe...</td>\n",
       "    </tr>\n",
       "    <tr>\n",
       "      <th>2</th>\n",
       "      <td>0</td>\n",
       "      <td>preflop</td>\n",
       "      <td>smmpi</td>\n",
       "      <td>call</td>\n",
       "      <td>200</td>\n",
       "      <td>HA,D7</td>\n",
       "      <td>NaN</td>\n",
       "      <td>500</td>\n",
       "      <td>5000;4900;4800;4800</td>\n",
       "      <td>smmpihzszsesmpxjefwcwu:SMALLBLIND:100;eavjfjqe...</td>\n",
       "    </tr>\n",
       "    <tr>\n",
       "      <th>3</th>\n",
       "      <td>0</td>\n",
       "      <td>preflop</td>\n",
       "      <td>eavjf</td>\n",
       "      <td>call</td>\n",
       "      <td>200</td>\n",
       "      <td>C8,D8</td>\n",
       "      <td>NaN</td>\n",
       "      <td>600</td>\n",
       "      <td>5000;4800;4800;4800</td>\n",
       "      <td>smmpihzszsesmpxjefwcwu:SMALLBLIND:100;eavjfjqe...</td>\n",
       "    </tr>\n",
       "    <tr>\n",
       "      <th>4</th>\n",
       "      <td>0</td>\n",
       "      <td>flop</td>\n",
       "      <td>smmpi</td>\n",
       "      <td>raise</td>\n",
       "      <td>2128</td>\n",
       "      <td>HA,D7</td>\n",
       "      <td>H4,H3,HQ</td>\n",
       "      <td>600</td>\n",
       "      <td>5000;4800;4800;4800</td>\n",
       "      <td>NaN</td>\n",
       "    </tr>\n",
       "  </tbody>\n",
       "</table>\n",
       "</div>"
      ],
      "text/plain": [
       "   config_id    round acting_player action  action_amount hole_cards  \\\n",
       "0          0  preflop         geqao   call            200      ST,S4   \n",
       "1          0  preflop         ufrlx   fold              0      C2,D5   \n",
       "2          0  preflop         smmpi   call            200      HA,D7   \n",
       "3          0  preflop         eavjf   call            200      C8,D8   \n",
       "4          0     flop         smmpi  raise           2128      HA,D7   \n",
       "\n",
       "  community_cards  pot               stacks  \\\n",
       "0             NaN  300  5000;4900;4800;5000   \n",
       "1             NaN  500  5000;4900;4800;4800   \n",
       "2             NaN  500  5000;4900;4800;4800   \n",
       "3             NaN  600  5000;4800;4800;4800   \n",
       "4        H4,H3,HQ  600  5000;4800;4800;4800   \n",
       "\n",
       "                                 actions_this_street  \n",
       "0  smmpihzszsesmpxjefwcwu:SMALLBLIND:100;eavjfjqe...  \n",
       "1  smmpihzszsesmpxjefwcwu:SMALLBLIND:100;eavjfjqe...  \n",
       "2  smmpihzszsesmpxjefwcwu:SMALLBLIND:100;eavjfjqe...  \n",
       "3  smmpihzszsesmpxjefwcwu:SMALLBLIND:100;eavjfjqe...  \n",
       "4                                                NaN  "
      ]
     },
     "execution_count": 278,
     "metadata": {},
     "output_type": "execute_result"
    }
   ],
   "source": [
    "df.head()"
   ]
  },
  {
   "cell_type": "code",
   "execution_count": 279,
   "id": "100263da-9d84-40b4-879a-9561c913f56a",
   "metadata": {},
   "outputs": [
    {
     "data": {
      "text/plain": [
       "(83630, 10)"
      ]
     },
     "execution_count": 279,
     "metadata": {},
     "output_type": "execute_result"
    }
   ],
   "source": [
    "df.shape"
   ]
  },
  {
   "cell_type": "code",
   "execution_count": 280,
   "id": "14c9e7bd-2c36-4e3f-bc02-bd0a8f01a74e",
   "metadata": {},
   "outputs": [
    {
     "data": {
      "text/plain": [
       "Index(['config_id', 'round', 'acting_player', 'action', 'action_amount',\n",
       "       'hole_cards', 'community_cards', 'pot', 'stacks',\n",
       "       'actions_this_street'],\n",
       "      dtype='object')"
      ]
     },
     "execution_count": 280,
     "metadata": {},
     "output_type": "execute_result"
    }
   ],
   "source": [
    "df.columns"
   ]
  },
  {
   "cell_type": "code",
   "execution_count": 281,
   "id": "0d9e529f-c5ef-4449-b4ee-cfb986646e4b",
   "metadata": {},
   "outputs": [
    {
     "data": {
      "text/plain": [
       "config_id                  0\n",
       "round                      0\n",
       "acting_player              0\n",
       "action                     0\n",
       "action_amount              0\n",
       "hole_cards                 0\n",
       "community_cards        64994\n",
       "pot                        0\n",
       "stacks                     0\n",
       "actions_this_street     9082\n",
       "dtype: int64"
      ]
     },
     "execution_count": 281,
     "metadata": {},
     "output_type": "execute_result"
    }
   ],
   "source": [
    "df.isnull().sum()"
   ]
  },
  {
   "cell_type": "markdown",
   "id": "2d51a172-0704-4cb5-979a-b1a4668c0b87",
   "metadata": {},
   "source": [
    "### 🔎 Investigate missing values "
   ]
  },
  {
   "cell_type": "markdown",
   "id": "b2266cf8-9f25-4a69-b373-c729d3d3c59b",
   "metadata": {},
   "source": [
    "### `community_cards`"
   ]
  },
  {
   "cell_type": "code",
   "execution_count": 284,
   "id": "46e10dee-a18b-41c7-8f87-108fdb782fc9",
   "metadata": {},
   "outputs": [
    {
     "data": {
      "text/plain": [
       "64994"
      ]
     },
     "execution_count": 284,
     "metadata": {},
     "output_type": "execute_result"
    }
   ],
   "source": [
    "# Count rows where round is 'preflop' and community_cards is NaN\n",
    "df[(df['round'] == 'preflop') & (df['community_cards'].isna())].shape[0]\n",
    "\n",
    "# This can confirm that missing values occur before any community cards are revealed (pre-flop)."
   ]
  },
  {
   "cell_type": "code",
   "execution_count": 285,
   "id": "cad034d6-2cc5-41f5-9b44-7d3ffa324356",
   "metadata": {},
   "outputs": [
    {
     "name": "stdout",
     "output_type": "stream",
     "text": [
      "action         call      fold     raise\n",
      "config_id                              \n",
      "0          0.335260  0.335472  0.329268\n",
      "1          0.329375  0.335852  0.334773\n",
      "2          0.336726  0.331228  0.332047\n",
      "3          0.333964  0.333853  0.332183\n"
     ]
    }
   ],
   "source": [
    "# Check  the percentage of each action each happen during preflop round \n",
    "print(df[df['round'] == 'preflop'].groupby('config_id')['action'].value_counts(normalize=True).unstack(fill_value=0))"
   ]
  },
  {
   "cell_type": "code",
   "execution_count": 286,
   "id": "6367e364-a2fc-4826-9103-9a4eafefa26a",
   "metadata": {},
   "outputs": [],
   "source": [
    "# The percentage of each action is balance. \n",
    "# I will replace missing value of `community_cards` to \"preflop_state\"\n",
    "df['community_cards'] = df['community_cards'].fillna(\"preflop_state\")"
   ]
  },
  {
   "cell_type": "markdown",
   "id": "b371ade0-a8a4-476c-9b85-caaacd5f115a",
   "metadata": {},
   "source": [
    "### `actions_this_street`"
   ]
  },
  {
   "cell_type": "code",
   "execution_count": 288,
   "id": "26479351-6f8d-4e58-8ced-681afbd480ca",
   "metadata": {},
   "outputs": [
    {
     "data": {
      "text/plain": [
       "round\n",
       "flop     6938\n",
       "turn     1722\n",
       "river     422\n",
       "Name: count, dtype: int64"
      ]
     },
     "execution_count": 288,
     "metadata": {},
     "output_type": "execute_result"
    }
   ],
   "source": [
    "#Check if missing values correlate with specific rounds (round column) or game states\n",
    "df[df['actions_this_street'].isna()]['round'].value_counts()"
   ]
  },
  {
   "cell_type": "code",
   "execution_count": 289,
   "id": "8e2c3158-e678-4b56-a1bc-31a4289ae9c5",
   "metadata": {},
   "outputs": [],
   "source": [
    "# Understand the missingness of `action_this_street`\n",
    "# round\n",
    "# flop     6938 (Most common)\n",
    "# turn     1722\n",
    "# river     422 (Least common)\n",
    "\n",
    "# Possible causes:\n",
    "# Early termination of hands during preflop round\n",
    "# Hands end due to flop action\n",
    "# Hand beaten or beats by river hand\n",
    "# Situations where multiple players only performed checks without significant bets or raises."
   ]
  },
  {
   "cell_type": "code",
   "execution_count": 290,
   "id": "42b574e7-a926-48bf-a720-095a58587bed",
   "metadata": {},
   "outputs": [],
   "source": [
    "# I want to focus on complete round therefore, I decide to drop the `actions_this_street` rows where contain NaN \n",
    "\n",
    "# Reasons:\n",
    "# It minimize the missing values\n",
    "# Allow the better detection of player strategies, behavioral patterns, and game dynamics.\n",
    "# Enhances ability to train models that effectively capture patterns in poker strategies."
   ]
  },
  {
   "cell_type": "code",
   "execution_count": 291,
   "id": "a0459bfc-8cbe-417e-893d-ee6eb3b67330",
   "metadata": {},
   "outputs": [],
   "source": [
    "# Create new DataFrame to store data and filter out the rows that have NaN in `actions_this_street`\n",
    "df_complete_games = df.dropna(subset=['actions_this_street'])"
   ]
  },
  {
   "cell_type": "code",
   "execution_count": 292,
   "id": "07d96c12-0946-4100-9542-5114e7abb174",
   "metadata": {},
   "outputs": [
    {
     "data": {
      "text/plain": [
       "config_id              0\n",
       "round                  0\n",
       "acting_player          0\n",
       "action                 0\n",
       "action_amount          0\n",
       "hole_cards             0\n",
       "community_cards        0\n",
       "pot                    0\n",
       "stacks                 0\n",
       "actions_this_street    0\n",
       "dtype: int64"
      ]
     },
     "execution_count": 292,
     "metadata": {},
     "output_type": "execute_result"
    }
   ],
   "source": [
    "# Check data again\n",
    "df_complete_games.isnull().sum() "
   ]
  },
  {
   "cell_type": "markdown",
   "id": "29baf959-4542-4a3c-9018-fabad2103b39",
   "metadata": {},
   "source": [
    "---"
   ]
  },
  {
   "cell_type": "markdown",
   "id": "3506e84b-6b97-4661-adc5-9de1dc0ace76",
   "metadata": {},
   "source": [
    "# 📊 EDA\n",
    "### Let's see general information"
   ]
  },
  {
   "cell_type": "code",
   "execution_count": 295,
   "id": "db1fee2b-549d-4b0a-897b-31e446ac83d7",
   "metadata": {},
   "outputs": [
    {
     "data": {
      "text/plain": [
       "action\n",
       "call     24891\n",
       "fold     24962\n",
       "raise    24695\n",
       "dtype: int64"
      ]
     },
     "execution_count": 295,
     "metadata": {},
     "output_type": "execute_result"
    }
   ],
   "source": [
    "# How many action take place\n",
    "df_complete_games.groupby('action').size()\n",
    "# Didn't see huge imbalance in action"
   ]
  },
  {
   "cell_type": "code",
   "execution_count": 332,
   "id": "02bfdd2b-cabe-4a87-be63-a247901c4c1c",
   "metadata": {},
   "outputs": [
    {
     "data": {
      "image/png": "[encoded data removed]",
      "text/plain": [
       "<Figure size 800x500 with 1 Axes>"
      ]
     },
     "metadata": {},
     "output_type": "display_data"
    }
   ],
   "source": [
    "# Plot the distribution of actions\n",
    "plt.figure(figsize=(8, 5))\n",
    "sns.countplot(x='action', data=df_complete_games)\n",
    "plt.title('Distribution of Player Actions')\n",
    "plt.xlabel('Action')\n",
    "plt.ylabel('Count')\n",
    "\n",
    "plt.savefig('../images/Distribution_ofPlayerActions.png', format='png', dpi=300)\n",
    "plt.show()\n"
   ]
  },
  {
   "cell_type": "code",
   "execution_count": 334,
   "id": "382b05e2-865a-4291-babd-b9cd640b392c",
   "metadata": {},
   "outputs": [
    {
     "data": {
      "image/png": "[encoded data removed]",
      "text/plain": [
       "<Figure size 800x500 with 1 Axes>"
      ]
     },
     "metadata": {},
     "output_type": "display_data"
    }
   ],
   "source": [
    "# Plot distribution of pot sizes\n",
    "plt.figure(figsize=(8, 5))\n",
    "sns.histplot(df_complete_games['pot'], kde=True, color=\"blue\", bins=50)\n",
    "plt.title('Distribution of Pot Sizes')\n",
    "plt.xlabel('Pot Size')\n",
    "plt.ylabel('Frequency')\n",
    "\n",
    "plt.savefig('../images/Distribution_ofPotSizes.png', format='png', dpi=300)\n",
    "plt.show()"
   ]
  },
  {
   "cell_type": "code",
   "execution_count": 336,
   "id": "6ea82729-ca6a-4ca2-b274-50bf00790a68",
   "metadata": {},
   "outputs": [
    {
     "data": {
      "image/png": "[encoded data removed]",
      "text/plain": [
       "<Figure size 800x500 with 1 Axes>"
      ]
     },
     "metadata": {},
     "output_type": "display_data"
    }
   ],
   "source": [
    "# Compare pot sizes across rounds\n",
    "plt.figure(figsize=(8, 5))\n",
    "sns.boxplot(x='round', y='pot', data=df_complete_games)\n",
    "plt.title('Pot Sizes Across Rounds')\n",
    "plt.xlabel('Round')\n",
    "plt.ylabel('Pot')\n",
    "\n",
    "plt.savefig('../images/PotSizesAcrossRounds.png', format='png', dpi=300)\n",
    "plt.show()"
   ]
  },
  {
   "cell_type": "code",
   "execution_count": 338,
   "id": "5130425d-916e-4d5f-ab34-8b082511a674",
   "metadata": {},
   "outputs": [
    {
     "data": {
      "image/png": "[encoded data removed]",
      "text/plain": [
       "<Figure size 800x500 with 1 Axes>"
      ]
     },
     "metadata": {},
     "output_type": "display_data"
    }
   ],
   "source": [
    "# Visualize outliers in pot sizes\n",
    "plt.figure(figsize=(8, 5))\n",
    "sns.boxplot(x=df_complete_games['pot'])\n",
    "plt.title('Box Plot of Pot Size')\n",
    "plt.xlabel('Pot')\n",
    "\n",
    "plt.savefig('../images/Boxplot_ofPotSizes.png', format='png', dpi=300)\n",
    "plt.show()"
   ]
  },
  {
   "cell_type": "code",
   "execution_count": 340,
   "id": "02f3f6f6-a9c5-4200-a763-51b69145ec81",
   "metadata": {},
   "outputs": [],
   "source": [
    "df_complete_games.to_csv('../datasets/poker_completed_games.csv', index=False)"
   ]
  },
  {
   "cell_type": "code",
   "execution_count": null,
   "id": "b5e775f2-69e8-4153-a4fb-8898b0d9c317",
   "metadata": {},
   "outputs": [],
   "source": []
  }
 ],
 "metadata": {
  "kernelspec": {
   "display_name": "Python 3 (ipykernel)",
   "language": "python",
   "name": "python3"
  },
  "language_info": {
   "codemirror_mode": {
    "name": "ipython",
    "version": 3
   },
   "file_extension": ".py",
   "mimetype": "text/x-python",
   "name": "python",
   "nbconvert_exporter": "python",
   "pygments_lexer": "ipython3",
   "version": "3.12.4"
  }
 },
 "nbformat": 4,
 "nbformat_minor": 5
}
