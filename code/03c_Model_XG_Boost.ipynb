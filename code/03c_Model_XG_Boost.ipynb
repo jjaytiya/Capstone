{
 "cells": [
  {
   "cell_type": "markdown",
   "id": "00d547db-2c63-4ec6-8cc2-1890af15246b",
   "metadata": {},
   "source": [
    "# 📖 Import Library "
   ]
  },
  {
   "cell_type": "code",
   "execution_count": 86,
   "id": "f63ffa6f-85d2-4070-baef-e46b13bb6705",
   "metadata": {},
   "outputs": [],
   "source": [
    "import pandas as pd\n",
    "import numpy as np\n",
    "\n",
    "from sklearn.metrics import confusion_matrix, ConfusionMatrixDisplay\n",
    "import matplotlib.pyplot as plt\n",
    "\n",
    "from sklearn.model_selection import train_test_split, GridSearchCV  # For splitting data into training and testing sets\n",
    "from sklearn.preprocessing import StandardScaler  # For scaling numerical features\n",
    "from xgboost import XGBClassifier  # The random XG Boost model\n",
    "from sklearn.metrics import classification_report, accuracy_score, balanced_accuracy_score  # For model evaluation\n",
    "\n",
    "from xgboost import plot_importance\n",
    "from imblearn.over_sampling import SMOTE"
   ]
  },
  {
   "cell_type": "markdown",
   "id": "2dcf0cc6-be63-47b2-b5b4-a40b4eacf920",
   "metadata": {},
   "source": [
    "# 💻 Load in data"
   ]
  },
  {
   "cell_type": "code",
   "execution_count": 4,
   "id": "ccf02c98-4437-49ee-8353-8cbcf38dcb9c",
   "metadata": {},
   "outputs": [],
   "source": [
    "df=pd.read_csv('../datasets/poker_completed.csv')"
   ]
  },
  {
   "cell_type": "code",
   "execution_count": 5,
   "id": "7ea14376-6865-4b84-b7ff-16c8731fd438",
   "metadata": {},
   "outputs": [
    {
     "data": {
      "text/plain": [
       "(8863, 33)"
      ]
     },
     "execution_count": 5,
     "metadata": {},
     "output_type": "execute_result"
    }
   ],
   "source": [
    "df.shape"
   ]
  },
  {
   "cell_type": "code",
   "execution_count": 88,
   "id": "f1a4ea45-5131-4f0e-b9cc-b4274679e297",
   "metadata": {},
   "outputs": [
    {
     "name": "stdout",
     "output_type": "stream",
     "text": [
      "XGBoost Accuracy: 0.5815002820078963\n",
      "Classification Report:\n",
      "               precision    recall  f1-score   support\n",
      "\n",
      "           0       0.55      0.59      0.57       622\n",
      "           1       0.65      0.66      0.65       737\n",
      "           2       0.51      0.43      0.47       414\n",
      "\n",
      "    accuracy                           0.58      1773\n",
      "   macro avg       0.57      0.56      0.56      1773\n",
      "weighted avg       0.58      0.58      0.58      1773\n",
      "\n"
     ]
    }
   ],
   "source": [
    "# Run model to check accuracy before apply grid search\n",
    "# Set up X,y\n",
    "X = df[['round_label', 'pot', 'player_stack',\n",
    "        'poker_hand', 'card1_rank', 'card2_rank','card1_suit','card2_suit', 'community1_rank', \n",
    "        'community2_rank', 'community3_rank', 'community4_rank', \n",
    "        'community5_rank','community1_suit', 'community2_suit', 'community3_suit', \n",
    "        'community4_suit', 'community5_suit']]\n",
    "\n",
    "y = df['action_label']  # Target variable\n",
    "\n",
    "# Split the data\n",
    "X_train, X_test, y_train, y_test = train_test_split(X, y, test_size=0.2, random_state=42)\n",
    "\n",
    "# Scale features\n",
    "scaler = StandardScaler()\n",
    "X_train_sc = scaler.fit_transform(X_train)\n",
    "X_test_sc = scaler.transform(X_test)\n",
    "\n",
    "# Train XGBoost Classifier\n",
    "xgb_clf = XGBClassifier(n_estimators=100, random_state=42)\n",
    "xgb_clf.fit(X_train_sc, y_train)  # Use scaled features for training\n",
    "y_pred = xgb_clf.predict(X_test_sc)  # Use scaled features for prediction\n",
    "\n",
    "# Display results\n",
    "print(\"XGBoost Accuracy:\", accuracy_score(y_test, y_pred))\n",
    "print(\"Classification Report:\\n\", classification_report(y_test, y_pred))\n"
   ]
  },
  {
   "cell_type": "code",
   "execution_count": 71,
   "id": "22af8b82-180a-4ed2-b333-3270b1066ead",
   "metadata": {},
   "outputs": [
    {
     "data": {
      "text/plain": [
       "action_label\n",
       "1    0.388807\n",
       "0    0.363647\n",
       "2    0.247546\n",
       "Name: proportion, dtype: float64"
      ]
     },
     "execution_count": 71,
     "metadata": {},
     "output_type": "execute_result"
    }
   ],
   "source": [
    "# Check baseline \n",
    "y.value_counts(normalize=True)"
   ]
  },
  {
   "cell_type": "code",
   "execution_count": 90,
   "id": "cbdc15af-c7c5-43f1-b5f5-9a4a0e9ab75f",
   "metadata": {},
   "outputs": [
    {
     "name": "stdout",
     "output_type": "stream",
     "text": [
      "0.8860366713681241\n",
      "0.5815002820078963\n"
     ]
    }
   ],
   "source": [
    "# Check training and testing scores\n",
    "print(xgb_clf.score(X_train_sc, y_train))  # Training accuracy\n",
    "print(xgb_clf.score(X_test_sc, y_test))    # Testing accuracy\n",
    "\n",
    "# The result is OVERFITTING"
   ]
  },
  {
   "cell_type": "code",
   "execution_count": 44,
   "id": "e97e0c95-c5c1-47d0-b320-64dc38c01eb0",
   "metadata": {},
   "outputs": [
    {
     "name": "stdout",
     "output_type": "stream",
     "text": [
      "Fitting 3 folds for each of 729 candidates, totalling 2187 fits\n",
      "Best Parameters: {'colsample_bytree': 1.0, 'gamma': 1, 'learning_rate': 0.01, 'max_depth': 7, 'min_child_weight': 1, 'subsample': 0.6}\n",
      "Improved Balanced Accuracy: 0.5659566867482969\n",
      "Classification Report:\n",
      "               precision    recall  f1-score   support\n",
      "\n",
      "           0       0.58      0.51      0.54       622\n",
      "           1       0.67      0.62      0.64       737\n",
      "           2       0.43      0.57      0.49       414\n",
      "\n",
      "    accuracy                           0.57      1773\n",
      "   macro avg       0.56      0.57      0.56      1773\n",
      "weighted avg       0.58      0.57      0.57      1773\n",
      "\n"
     ]
    }
   ],
   "source": [
    "# Handle class imbalance using SMOTE\n",
    "smote = SMOTE(random_state=42)\n",
    "X_train_bal, y_train_bal = smote.fit_resample(X_train_sc, y_train)\n",
    "\n",
    "# Updated parameter grid for GridSearchCV\n",
    "param_grid = {\n",
    "    'max_depth': [3, 5, 7],\n",
    "    'min_child_weight': [1, 3, 5],\n",
    "    'subsample': [0.6, 0.8, 1.0],\n",
    "    'colsample_bytree': [0.6, 0.8, 1.0],\n",
    "    'learning_rate': [0.01, 0.05, 0.1],\n",
    "    'gamma': [0, 1, 5],  # Regularization parameter\n",
    "}\n",
    "\n",
    "grid_search = GridSearchCV(\n",
    "    estimator=XGBClassifier(n_estimators=500, random_state=42, eval_metric='mlogloss'),\n",
    "    param_grid=param_grid,\n",
    "    scoring='balanced_accuracy',  # Balanced scoring metric\n",
    "    cv=3,\n",
    "    verbose=1\n",
    ")\n",
    "\n",
    "# Fit grid search on the balanced data\n",
    "grid_search.fit(X_train_bal, y_train_bal)\n",
    "\n",
    "# Best parameters\n",
    "print(\"Best Parameters:\", grid_search.best_params_)\n",
    "\n",
    "# Train the best model\n",
    "best_xgb = grid_search.best_estimator_\n",
    "y_pred = best_xgb.predict(X_test_sc)\n",
    "\n",
    "# Results\n",
    "print(\"Improved Balanced Accuracy:\", balanced_accuracy_score(y_test, y_pred))\n",
    "print(\"Classification Report:\\n\", classification_report(y_test, y_pred))"
   ]
  },
  {
   "cell_type": "code",
   "execution_count": 92,
   "id": "07c2c32d-5caf-4612-98b1-40effed6727b",
   "metadata": {},
   "outputs": [
    {
     "name": "stdout",
     "output_type": "stream",
     "text": [
      "XGBoost Accuracy: 0.565707839819515\n",
      "Classification Report:\n",
      "               precision    recall  f1-score   support\n",
      "\n",
      "           0       0.59      0.45      0.51       622\n",
      "           1       0.68      0.62      0.65       737\n",
      "           2       0.43      0.65      0.52       414\n",
      "\n",
      "    accuracy                           0.57      1773\n",
      "   macro avg       0.56      0.57      0.56      1773\n",
      "weighted avg       0.59      0.57      0.57      1773\n",
      "\n"
     ]
    }
   ],
   "source": [
    "# Run model by applyting the best_param\n",
    "# Apply with the best_params\n",
    "# Best Parameters: {'colsample_bytree': 1.0, 'gamma': 1, 'learning_rate': 0.01, 'max_depth': 7, 'min_child_weight': 1, 'subsample': 0.6}\n",
    "\n",
    "# Split the data\n",
    "X_train, X_test, y_train, y_test = train_test_split(X, y, test_size=0.2, random_state=42)\n",
    "\n",
    "# Scale features\n",
    "scaler = StandardScaler()\n",
    "X_train_sc = scaler.fit_transform(X_train)\n",
    "X_test_sc = scaler.transform(X_test)\n",
    "\n",
    "# Apply SMOTE for oversampling\n",
    "smote = SMOTE(random_state=42)\n",
    "X_train_res, y_train_res = smote.fit_resample(X_train_sc, y_train)\n",
    "\n",
    "# Train XGBoost\n",
    "xgb_clf = XGBClassifier(n_estimators=200, \n",
    "                        gamma = 1,\n",
    "                        colsample_bytree=1.0, \n",
    "                        learning_rate=0.01, \n",
    "                        max_depth=7, \n",
    "                        min_child_weight=1, \n",
    "                        subsample=0.6, \n",
    "                        random_state=42)\n",
    "\n",
    "xgb_clf.fit(X_train_res, y_train_res)\n",
    "y_pred = xgb_clf.predict(X_test_sc)\n",
    "\n",
    "# Display results\n",
    "print(\"XGBoost Accuracy:\", accuracy_score(y_test, y_pred))\n",
    "print(\"Classification Report:\\n\", classification_report(y_test, y_pred, zero_division=1))"
   ]
  },
  {
   "cell_type": "code",
   "execution_count": 94,
   "id": "393504d7-1cb5-49ae-b21f-4ad67eafafe7",
   "metadata": {},
   "outputs": [
    {
     "name": "stdout",
     "output_type": "stream",
     "text": [
      "0.6497884344146685\n",
      "0.565707839819515\n"
     ]
    }
   ],
   "source": [
    "# Check training and testing scores\n",
    "print(xgb_clf.score(X_train_sc, y_train))  # Training accuracy\n",
    "print(xgb_clf.score(X_test_sc, y_test))    # Testing accuracy\n",
    "\n",
    "# The result is better compared to earlier attempt BUT still overfitting"
   ]
  },
  {
   "cell_type": "markdown",
   "id": "8694cddc-4e87-45a5-831a-02a6aecd8cc2",
   "metadata": {},
   "source": [
    "## 📝 How well XG Boost can predict the hand?"
   ]
  },
  {
   "cell_type": "markdown",
   "id": "e6481ec8-5da0-4fd4-87ff-96f26e35a088",
   "metadata": {},
   "source": [
    "1. **Overall Accuracy:** The XGBoost model, before applying the best parameters, achieves an accuracy of **58%**. After applying the best parameters, the accuracy changes to **57%**. Although the accuracy is slightly lower after applying the best parameters, the model performs better in terms of handling overfitting.\n",
    "\n",
    "    This is a _notable improvement_ compared to the Logistic Regression model **(42%)** and the Neural Network model **(47%)**. \n",
    "    \n",
    "\n",
    "2. **Performance Metrics for Each Class::**\n",
    "     **Class 0 (Call)**\n",
    "   - **Precision (0.59):** When the model predicts \"Call,\" 59% of those predictions are correct.\n",
    "   - **Recall (0.45):** The model identifies 45% of the actual \"Call\" instances correctly.\n",
    "   - **F1-score (0.51):** The harmonic mean of precision and recall shows moderate performance for this class, with room for improvement.\n",
    "</br></br>\n",
    "    **Class 1 (Raise)**\n",
    "   - **Precision (0.68):** When the model predicts \"Raise,\" 68% of those predictions are correct.\n",
    "   - **Recall (0.62):** The model identifies 62% of the actual \"Raise\" instances correctly.\n",
    "   - **F1-score (0.65):** The model performs relatively well for this class, compared to others.\n",
    "    </br></br>\n",
    "    **Class 2 (Fold)**\n",
    "   - **Precision (0.43):** When the model predicts \"Fold,\" only 43% of those predictions are correct.\n",
    "   - **Recall (0.65):** The model identifies 65% of the actual \"Fold\" instances correctly.\n",
    "   - **F1-score (0.52):** The model is less precise for this class but detects a higher percentage of actual instances.\n",
    "</br></br>\n",
    "3. **Key Observations** </br>\n",
    "    **Strengths:**\n",
    "   - The model performs best for predicting \"Raise\" (Class 1), achieving the highest precision (0.68) and F1-score (0.65).\n",
    "   - It has a good recall for \"Fold\" (Class 2) at 65%, suggesting it captures many true instances of this class.\n",
    "\n",
    "    **Weaknesses:**\n",
    "   - Precision for \"Fold\" (Class 2) is low (0.43), meaning the model struggles to avoid false positives for this action.\n",
    "   - The recall for \"Call\" (Class 0) is the weakest (0.45), indicating many true \"Call\" instances are misclassified."
   ]
  },
  {
   "cell_type": "code",
   "execution_count": 58,
   "id": "835c8d31-67d3-42dc-bc86-c2b90c8e5a1e",
   "metadata": {},
   "outputs": [
    {
     "data": {
      "image/png": "[encoded data removed]",
      "text/plain": [
       "<Figure size 640x480 with 2 Axes>"
      ]
     },
     "metadata": {},
     "output_type": "display_data"
    }
   ],
   "source": [
    "# Compute the confusion matrix\n",
    "# 0 = call , 1 = raise, 3 = fold\n",
    "\n",
    "cm = confusion_matrix(y_test, y_pred)\n",
    "\n",
    "# Display the confusion matrix\n",
    "disp = ConfusionMatrixDisplay(confusion_matrix=cm, display_labels=xgb_clf.classes_)\n",
    "disp.plot(cmap='viridis', values_format='d')\n",
    "\n",
    "# Add a title for clarity\n",
    "plt.title(\"Confusion Matrix - Random Forest\")\n",
    "plt.show()"
   ]
  },
  {
   "cell_type": "code",
   "execution_count": 79,
   "id": "a2afafbc-29c1-4d8a-9314-440a0ae21ba3",
   "metadata": {},
   "outputs": [
    {
     "data": {
      "image/png": "[encoded data removed]",
      "text/plain": [
       "<Figure size 1000x600 with 1 Axes>"
      ]
     },
     "metadata": {},
     "output_type": "display_data"
    }
   ],
   "source": [
    "# Plot Feature Importances\n",
    "importance_df = pd.DataFrame({\n",
    "    'Feature': X.columns, \n",
    "    'Importance': xgb_clf.feature_importances_}).sort_values(by='Importance')\n",
    "\n",
    "plt.figure(figsize=(10, 6))\n",
    "plt.barh(importance_df['Feature'], importance_df['Importance'], color='navy')\n",
    "plt.xlabel('Feature Importance')\n",
    "plt.title('XGB Feature Importances')\n",
    "plt.savefig('../images/XBG_Feature_Importances.png', dpi=300)\n",
    "plt.show()"
   ]
  },
  {
   "cell_type": "code",
   "execution_count": 81,
   "id": "96566d5b-fc17-45b7-95a9-2e8521ce3525",
   "metadata": {},
   "outputs": [
    {
     "data": {
      "text/html": [
       "<div>\n",
       "<style scoped>\n",
       "    .dataframe tbody tr th:only-of-type {\n",
       "        vertical-align: middle;\n",
       "    }\n",
       "\n",
       "    .dataframe tbody tr th {\n",
       "        vertical-align: top;\n",
       "    }\n",
       "\n",
       "    .dataframe thead th {\n",
       "        text-align: right;\n",
       "    }\n",
       "</style>\n",
       "<table border=\"1\" class=\"dataframe\">\n",
       "  <thead>\n",
       "    <tr style=\"text-align: right;\">\n",
       "      <th></th>\n",
       "      <th>Feature</th>\n",
       "      <th>Importance</th>\n",
       "    </tr>\n",
       "  </thead>\n",
       "  <tbody>\n",
       "    <tr>\n",
       "      <th>12</th>\n",
       "      <td>community5_rank</td>\n",
       "      <td>0.03</td>\n",
       "    </tr>\n",
       "    <tr>\n",
       "      <th>6</th>\n",
       "      <td>card1_suit</td>\n",
       "      <td>0.04</td>\n",
       "    </tr>\n",
       "    <tr>\n",
       "      <th>5</th>\n",
       "      <td>card2_rank</td>\n",
       "      <td>0.04</td>\n",
       "    </tr>\n",
       "    <tr>\n",
       "      <th>7</th>\n",
       "      <td>card2_suit</td>\n",
       "      <td>0.04</td>\n",
       "    </tr>\n",
       "    <tr>\n",
       "      <th>3</th>\n",
       "      <td>poker_hand</td>\n",
       "      <td>0.04</td>\n",
       "    </tr>\n",
       "    <tr>\n",
       "      <th>4</th>\n",
       "      <td>card1_rank</td>\n",
       "      <td>0.04</td>\n",
       "    </tr>\n",
       "    <tr>\n",
       "      <th>11</th>\n",
       "      <td>community4_rank</td>\n",
       "      <td>0.04</td>\n",
       "    </tr>\n",
       "    <tr>\n",
       "      <th>15</th>\n",
       "      <td>community3_suit</td>\n",
       "      <td>0.04</td>\n",
       "    </tr>\n",
       "    <tr>\n",
       "      <th>16</th>\n",
       "      <td>community4_suit</td>\n",
       "      <td>0.05</td>\n",
       "    </tr>\n",
       "    <tr>\n",
       "      <th>10</th>\n",
       "      <td>community3_rank</td>\n",
       "      <td>0.05</td>\n",
       "    </tr>\n",
       "    <tr>\n",
       "      <th>14</th>\n",
       "      <td>community2_suit</td>\n",
       "      <td>0.05</td>\n",
       "    </tr>\n",
       "    <tr>\n",
       "      <th>8</th>\n",
       "      <td>community1_rank</td>\n",
       "      <td>0.05</td>\n",
       "    </tr>\n",
       "    <tr>\n",
       "      <th>17</th>\n",
       "      <td>community5_suit</td>\n",
       "      <td>0.05</td>\n",
       "    </tr>\n",
       "    <tr>\n",
       "      <th>13</th>\n",
       "      <td>community1_suit</td>\n",
       "      <td>0.05</td>\n",
       "    </tr>\n",
       "    <tr>\n",
       "      <th>9</th>\n",
       "      <td>community2_rank</td>\n",
       "      <td>0.05</td>\n",
       "    </tr>\n",
       "    <tr>\n",
       "      <th>0</th>\n",
       "      <td>round_label</td>\n",
       "      <td>0.06</td>\n",
       "    </tr>\n",
       "    <tr>\n",
       "      <th>1</th>\n",
       "      <td>pot</td>\n",
       "      <td>0.13</td>\n",
       "    </tr>\n",
       "    <tr>\n",
       "      <th>2</th>\n",
       "      <td>player_stack</td>\n",
       "      <td>0.18</td>\n",
       "    </tr>\n",
       "  </tbody>\n",
       "</table>\n",
       "</div>"
      ],
      "text/plain": [
       "            Feature  Importance\n",
       "12  community5_rank        0.03\n",
       "6        card1_suit        0.04\n",
       "5        card2_rank        0.04\n",
       "7        card2_suit        0.04\n",
       "3        poker_hand        0.04\n",
       "4        card1_rank        0.04\n",
       "11  community4_rank        0.04\n",
       "15  community3_suit        0.04\n",
       "16  community4_suit        0.05\n",
       "10  community3_rank        0.05\n",
       "14  community2_suit        0.05\n",
       "8   community1_rank        0.05\n",
       "17  community5_suit        0.05\n",
       "13  community1_suit        0.05\n",
       "9   community2_rank        0.05\n",
       "0       round_label        0.06\n",
       "1               pot        0.13\n",
       "2      player_stack        0.18"
      ]
     },
     "execution_count": 81,
     "metadata": {},
     "output_type": "execute_result"
    }
   ],
   "source": [
    "importance_df.round(2)"
   ]
  },
  {
   "cell_type": "markdown",
   "id": "349b803f-0ce1-457a-92a0-25e986fadfed",
   "metadata": {},
   "source": [
    "## 📝 How the feature importance playing a role in the XG Boost model?\n",
    "#### The feature importance help indicating how each feature influences the target variable (`action_label`)."
   ]
  },
  {
   "cell_type": "markdown",
   "id": "be576ef3-c598-46f7-93e4-2dbab4446af6",
   "metadata": {},
   "source": [
    "#### Most Influential Features:\n",
    "- **`pot` (0.18) and `player_stack` (0.13)**: Impact decisions but less significantly."
   ]
  },
  {
   "cell_type": "markdown",
   "id": "f841db44-98b4-44a3-828b-10743f75245b",
   "metadata": {},
   "source": [
    "#### Moderate Importance:\n",
    "  - Card suit and ranks contribute moderately to the predictions."
   ]
  },
  {
   "cell_type": "code",
   "execution_count": 96,
   "id": "76fc5e19-fed8-48ca-ba3b-fa8dc71f085e",
   "metadata": {},
   "outputs": [
    {
     "data": {
      "text/plain": [
       "['../model/poker_strategy_XG.pkl']"
      ]
     },
     "execution_count": 96,
     "metadata": {},
     "output_type": "execute_result"
    }
   ],
   "source": [
    "import joblib\n",
    "\n",
    "# Save the model\n",
    "joblib.dump(xgb_clf, '../model/poker_strategy_XG.pkl')"
   ]
  },
  {
   "cell_type": "code",
   "execution_count": 84,
   "id": "f3942a40-f1a4-4674-806e-8da39d736a52",
   "metadata": {},
   "outputs": [
    {
     "data": {
      "text/plain": [
       "round_label        int64\n",
       "pot                int64\n",
       "player_stack       int64\n",
       "poker_hand         int64\n",
       "card1_rank         int64\n",
       "card2_rank         int64\n",
       "card1_suit         int64\n",
       "card2_suit         int64\n",
       "community1_rank    int64\n",
       "community2_rank    int64\n",
       "community3_rank    int64\n",
       "community4_rank    int64\n",
       "community5_rank    int64\n",
       "community1_suit    int64\n",
       "community2_suit    int64\n",
       "community3_suit    int64\n",
       "community4_suit    int64\n",
       "community5_suit    int64\n",
       "dtype: object"
      ]
     },
     "execution_count": 84,
     "metadata": {},
     "output_type": "execute_result"
    }
   ],
   "source": [
    "X.dtypes"
   ]
  },
  {
   "cell_type": "code",
   "execution_count": 100,
   "id": "ac9850e7-4e92-4576-b0d5-0497d9ba1349",
   "metadata": {},
   "outputs": [
    {
     "data": {
      "text/plain": [
       "(8863, 18)"
      ]
     },
     "execution_count": 100,
     "metadata": {},
     "output_type": "execute_result"
    }
   ],
   "source": [
    "X.shape"
   ]
  },
  {
   "cell_type": "code",
   "execution_count": null,
   "id": "6e4e986e-a6c4-4a5c-9683-e13c7ca33fea",
   "metadata": {},
   "outputs": [],
   "source": []
  }
 ],
 "metadata": {
  "kernelspec": {
   "display_name": "Python 3 (ipykernel)",
   "language": "python",
   "name": "python3"
  },
  "language_info": {
   "codemirror_mode": {
    "name": "ipython",
    "version": 3
   },
   "file_extension": ".py",
   "mimetype": "text/x-python",
   "name": "python",
   "nbconvert_exporter": "python",
   "pygments_lexer": "ipython3",
   "version": "3.12.4"
  }
 },
 "nbformat": 4,
 "nbformat_minor": 5
}
