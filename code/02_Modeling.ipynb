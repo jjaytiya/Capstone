{
 "cells": [
  {
   "cell_type": "code",
   "execution_count": 20,
   "id": "3aa698f8-8ac7-4735-9d53-a32a75da7338",
   "metadata": {},
   "outputs": [],
   "source": [
    "# Import Lib\n",
    "import pandas as pd\n",
    "from sklearn.model_selection import train_test_split"
   ]
  },
  {
   "cell_type": "code",
   "execution_count": 16,
   "id": "46cca5f2-75b5-4e3d-a58b-5f4fac6880d7",
   "metadata": {},
   "outputs": [],
   "source": [
    "# Load in data\n",
    "data = pd.read_csv('../datasets/data_clean.csv')"
   ]
  },
  {
   "cell_type": "code",
   "execution_count": null,
   "id": "4af011cb-f70d-4433-8208-f3d430d43db9",
   "metadata": {},
   "outputs": [],
   "source": []
  }
 ],
 "metadata": {
  "kernelspec": {
   "display_name": "Python 3 (ipykernel)",
   "language": "python",
   "name": "python3"
  },
  "language_info": {
   "codemirror_mode": {
    "name": "ipython",
    "version": 3
   },
   "file_extension": ".py",
   "mimetype": "text/x-python",
   "name": "python",
   "nbconvert_exporter": "python",
   "pygments_lexer": "ipython3",
   "version": "3.12.4"
  }
 },
 "nbformat": 4,
 "nbformat_minor": 5
}
